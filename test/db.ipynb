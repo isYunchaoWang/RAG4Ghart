{
 "cells": [
  {
   "metadata": {},
   "cell_type": "code",
   "outputs": [],
   "execution_count": null,
   "source": [
    "from pymilvus import MilvusClient, DataType\n",
    "\n",
    "client = MilvusClient(\n",
    "    uri=\"http://localhost:19530\"\n",
    ")"
   ],
   "id": "e5bfe40d3fab51b8"
  },
  {
   "metadata": {
    "ExecuteTime": {
     "end_time": "2025-08-07T04:48:36.872271Z",
     "start_time": "2025-08-07T04:48:36.802423Z"
    }
   },
   "cell_type": "code",
   "source": [
    "client.rename_collection(\n",
    "    old_name=\"test\",\n",
    "    new_name=\"BGE_VL_v1_5_zs\",\n",
    ")"
   ],
   "id": "526fc9aefa47597c",
   "outputs": [],
   "execution_count": 5
  }
 ],
 "metadata": {
  "kernelspec": {
   "display_name": "Python 3",
   "language": "python",
   "name": "python3"
  },
  "language_info": {
   "codemirror_mode": {
    "name": "ipython",
    "version": 2
   },
   "file_extension": ".py",
   "mimetype": "text/x-python",
   "name": "python",
   "nbconvert_exporter": "python",
   "pygments_lexer": "ipython2",
   "version": "2.7.6"
  }
 },
 "nbformat": 4,
 "nbformat_minor": 5
}
