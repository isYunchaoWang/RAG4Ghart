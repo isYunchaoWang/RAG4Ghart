{
 "cells": [
  {
   "metadata": {
    "ExecuteTime": {
     "end_time": "2025-07-22T11:48:48.942858Z",
     "start_time": "2025-07-22T11:48:48.792732Z"
    }
   },
   "cell_type": "code",
   "source": [
    "from pymilvus import MilvusClient, DataType\n",
    "\n",
    "client = MilvusClient(\n",
    "    uri=\"http://localhost:19530\"\n",
    ")\n",
    "\n",
    "res = client.describe_collection(\n",
    "    collection_name=\"bar\"\n",
    ")\n",
    "\n",
    "print(res)"
   ],
   "id": "be6ee9cae3a7e3ac",
   "outputs": [
    {
     "name": "stdout",
     "output_type": "stream",
     "text": [
      "{'collection_name': 'bar', 'auto_id': False, 'num_shards': 1, 'description': '', 'fields': [{'field_id': 100, 'name': 'id', 'description': '', 'type': <DataType.INT64: 5>, 'params': {}, 'is_primary': True}, {'field_id': 101, 'name': 'image_url', 'description': '', 'type': <DataType.VARCHAR: 21>, 'params': {'max_length': 128}}, {'field_id': 102, 'name': 'type', 'description': '', 'type': <DataType.VARCHAR: 21>, 'params': {'max_length': 32}}, {'field_id': 103, 'name': 'theme', 'description': '', 'type': <DataType.VARCHAR: 21>, 'params': {'max_length': 128}}, {'field_id': 104, 'name': 'title', 'description': '', 'type': <DataType.VARCHAR: 21>, 'params': {'max_length': 128}}, {'field_id': 105, 'name': 'distribution', 'description': '', 'type': <DataType.VARCHAR: 21>, 'params': {'max_length': 32}}, {'field_id': 106, 'name': 'display', 'description': '', 'type': <DataType.VARCHAR: 21>, 'params': {'max_length': 16}}, {'field_id': 107, 'name': 'header', 'description': '', 'type': <DataType.ARRAY: 22>, 'params': {'max_length': 128, 'max_capacity': 5}, 'element_type': <DataType.VARCHAR: 21>}, {'field_id': 108, 'name': 'unit', 'description': '', 'type': <DataType.VARCHAR: 21>, 'params': {'max_length': 64}}, {'field_id': 109, 'name': 'data', 'description': '', 'type': <DataType.VARCHAR: 21>, 'params': {'max_length': 4096}}, {'field_id': 110, 'name': 'vector', 'description': '', 'type': <DataType.FLOAT_VECTOR: 101>, 'params': {'dim': 4096}}], 'functions': [], 'aliases': [], 'collection_id': 459585441864268275, 'consistency_level': 2, 'properties': {}, 'num_partitions': 1, 'enable_dynamic_field': False, 'created_timestamp': 459586807376379907, 'update_timestamp': 459586807376379907}\n"
     ]
    }
   ],
   "execution_count": 1
  },
  {
   "metadata": {},
   "cell_type": "markdown",
   "source": "bar",
   "id": "5529429802630d12"
  },
  {
   "metadata": {
    "ExecuteTime": {
     "end_time": "2025-07-22T11:26:13.278112Z",
     "start_time": "2025-07-22T11:26:13.270816Z"
    }
   },
   "cell_type": "code",
   "source": [
    "res = client.load_collection()\n",
    "print(res)"
   ],
   "id": "da33639c14f6b76b",
   "outputs": [
    {
     "name": "stdout",
     "output_type": "stream",
     "text": [
      "{'collection_name': 'bar', 'auto_id': False, 'num_shards': 1, 'description': '', 'fields': [{'field_id': 100, 'name': 'id', 'description': '', 'type': <DataType.INT64: 5>, 'params': {}, 'is_primary': True}, {'field_id': 101, 'name': 'image_url', 'description': '', 'type': <DataType.VARCHAR: 21>, 'params': {'max_length': 128}}, {'field_id': 102, 'name': 'type', 'description': '', 'type': <DataType.VARCHAR: 21>, 'params': {'max_length': 32}}, {'field_id': 103, 'name': 'theme', 'description': '', 'type': <DataType.VARCHAR: 21>, 'params': {'max_length': 128}}, {'field_id': 104, 'name': 'title', 'description': '', 'type': <DataType.VARCHAR: 21>, 'params': {'max_length': 128}}, {'field_id': 105, 'name': 'distribution', 'description': '', 'type': <DataType.VARCHAR: 21>, 'params': {'max_length': 32}}, {'field_id': 106, 'name': 'display', 'description': '', 'type': <DataType.VARCHAR: 21>, 'params': {'max_length': 16}}, {'field_id': 107, 'name': 'header', 'description': '', 'type': <DataType.ARRAY: 22>, 'params': {'max_length': 128, 'max_capacity': 5}, 'element_type': <DataType.VARCHAR: 21>}, {'field_id': 108, 'name': 'unit', 'description': '', 'type': <DataType.VARCHAR: 21>, 'params': {'max_length': 64}}, {'field_id': 109, 'name': 'data', 'description': '', 'type': <DataType.VARCHAR: 21>, 'params': {'max_length': 4096}}, {'field_id': 110, 'name': 'vector', 'description': '', 'type': <DataType.FLOAT_VECTOR: 101>, 'params': {'dim': 4096}}], 'functions': [], 'aliases': [], 'collection_id': 459585441863261697, 'consistency_level': 2, 'properties': {}, 'num_partitions': 1, 'enable_dynamic_field': False, 'created_timestamp': 459586464950517763, 'update_timestamp': 459586464950517763}\n"
     ]
    }
   ],
   "execution_count": 7
  },
  {
   "metadata": {
    "ExecuteTime": {
     "end_time": "2025-07-22T12:11:49.677751Z",
     "start_time": "2025-07-22T12:11:49.668682Z"
    }
   },
   "cell_type": "code",
   "source": [
    "datum = {\n",
    "    \"id\": 1,\n",
    "    \"image_url\": \"\", # /home/dukaixing/RAG4Ghart/Dataset-ZXQ/sample100/bar/png/21.png\n",
    "    \"type\": \"bar\",\n",
    "    \"theme\": \"theme\",\n",
    "    \"title\": \"title\",\n",
    "    \"distribution\": \"distribution\",\n",
    "    \"display\": \"display\",\n",
    "    \"vector\": []\n",
    "}\n",
    "\n",
    "datum.pop(\"image_url\")\n",
    "datum.pop(\"id\")\n",
    "datum"
   ],
   "id": "bf5a124dfa73e2f1",
   "outputs": [
    {
     "data": {
      "text/plain": [
       "{'type': 'bar',\n",
       " 'theme': 'theme',\n",
       " 'title': 'title',\n",
       " 'distribution': 'distribution',\n",
       " 'display': 'display',\n",
       " 'vector': []}"
      ]
     },
     "execution_count": 3,
     "metadata": {},
     "output_type": "execute_result"
    }
   ],
   "execution_count": 3
  }
 ],
 "metadata": {
  "kernelspec": {
   "display_name": "Python 3",
   "language": "python",
   "name": "python3"
  },
  "language_info": {
   "codemirror_mode": {
    "name": "ipython",
    "version": 2
   },
   "file_extension": ".py",
   "mimetype": "text/x-python",
   "name": "python",
   "nbconvert_exporter": "python",
   "pygments_lexer": "ipython2",
   "version": "2.7.6"
  }
 },
 "nbformat": 4,
 "nbformat_minor": 5
}
