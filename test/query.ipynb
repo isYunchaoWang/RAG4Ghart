{
 "cells": [
  {
   "metadata": {
    "ExecuteTime": {
     "end_time": "2025-08-06T12:56:59.755938Z",
     "start_time": "2025-08-06T12:56:50.226737Z"
    }
   },
   "cell_type": "code",
   "source": [
    "import torch\n",
    "from modelscope import AutoModel\n",
    "\n",
    "MODEL_NAME = \"/home/public/dkx/model/BAAI/BGE-VL-v1.5-zs\"\n",
    "\n",
    "model = AutoModel.from_pretrained(MODEL_NAME, trust_remote_code=True)\n",
    "model.eval()\n",
    "model.cuda()"
   ],
   "id": "ffda788fe691d54f",
   "outputs": [
    {
     "data": {
      "text/plain": [
       "Loading checkpoint shards:   0%|          | 0/4 [00:00<?, ?it/s]"
      ],
      "application/vnd.jupyter.widget-view+json": {
       "version_major": 2,
       "version_minor": 0,
       "model_id": "21c9938a6a694af7834685d6d7f50d29"
      }
     },
     "metadata": {},
     "output_type": "display_data"
    },
    {
     "data": {
      "text/plain": [
       "LLaVANextForEmbedding(\n",
       "  (vision_tower): CLIPVisionModel(\n",
       "    (vision_model): CLIPVisionTransformer(\n",
       "      (embeddings): CLIPVisionEmbeddings(\n",
       "        (patch_embedding): Conv2d(3, 1024, kernel_size=(14, 14), stride=(14, 14), bias=False)\n",
       "        (position_embedding): Embedding(577, 1024)\n",
       "      )\n",
       "      (pre_layrnorm): LayerNorm((1024,), eps=1e-05, elementwise_affine=True)\n",
       "      (encoder): CLIPEncoder(\n",
       "        (layers): ModuleList(\n",
       "          (0-23): 24 x CLIPEncoderLayer(\n",
       "            (self_attn): CLIPSdpaAttention(\n",
       "              (k_proj): Linear(in_features=1024, out_features=1024, bias=True)\n",
       "              (v_proj): Linear(in_features=1024, out_features=1024, bias=True)\n",
       "              (q_proj): Linear(in_features=1024, out_features=1024, bias=True)\n",
       "              (out_proj): Linear(in_features=1024, out_features=1024, bias=True)\n",
       "            )\n",
       "            (layer_norm1): LayerNorm((1024,), eps=1e-05, elementwise_affine=True)\n",
       "            (mlp): CLIPMLP(\n",
       "              (activation_fn): QuickGELUActivation()\n",
       "              (fc1): Linear(in_features=1024, out_features=4096, bias=True)\n",
       "              (fc2): Linear(in_features=4096, out_features=1024, bias=True)\n",
       "            )\n",
       "            (layer_norm2): LayerNorm((1024,), eps=1e-05, elementwise_affine=True)\n",
       "          )\n",
       "        )\n",
       "      )\n",
       "      (post_layernorm): LayerNorm((1024,), eps=1e-05, elementwise_affine=True)\n",
       "    )\n",
       "  )\n",
       "  (multi_modal_projector): LlavaNextMultiModalProjector(\n",
       "    (linear_1): Linear(in_features=1024, out_features=4096, bias=True)\n",
       "    (act): GELUActivation()\n",
       "    (linear_2): Linear(in_features=4096, out_features=4096, bias=True)\n",
       "  )\n",
       "  (language_model): MistralForCausalLM(\n",
       "    (model): MistralModel(\n",
       "      (embed_tokens): Embedding(32064, 4096)\n",
       "      (layers): ModuleList(\n",
       "        (0-31): 32 x MistralDecoderLayer(\n",
       "          (self_attn): MistralSdpaAttention(\n",
       "            (q_proj): Linear(in_features=4096, out_features=4096, bias=False)\n",
       "            (k_proj): Linear(in_features=4096, out_features=1024, bias=False)\n",
       "            (v_proj): Linear(in_features=4096, out_features=1024, bias=False)\n",
       "            (o_proj): Linear(in_features=4096, out_features=4096, bias=False)\n",
       "            (rotary_emb): MistralRotaryEmbedding()\n",
       "          )\n",
       "          (mlp): MistralMLP(\n",
       "            (gate_proj): Linear(in_features=4096, out_features=14336, bias=False)\n",
       "            (up_proj): Linear(in_features=4096, out_features=14336, bias=False)\n",
       "            (down_proj): Linear(in_features=14336, out_features=4096, bias=False)\n",
       "            (act_fn): SiLU()\n",
       "          )\n",
       "          (input_layernorm): MistralRMSNorm((4096,), eps=1e-05)\n",
       "          (post_attention_layernorm): MistralRMSNorm((4096,), eps=1e-05)\n",
       "        )\n",
       "      )\n",
       "      (norm): MistralRMSNorm((4096,), eps=1e-05)\n",
       "    )\n",
       "    (lm_head): Linear(in_features=4096, out_features=32064, bias=False)\n",
       "  )\n",
       ")"
      ]
     },
     "execution_count": 1,
     "metadata": {},
     "output_type": "execute_result"
    }
   ],
   "execution_count": 1
  },
  {
   "cell_type": "code",
   "id": "initial_id",
   "metadata": {
    "collapsed": true,
    "ExecuteTime": {
     "end_time": "2025-08-06T12:57:08.639973Z",
     "start_time": "2025-08-06T12:57:07.573625Z"
    }
   },
   "source": [
    "from pymilvus import MilvusClient\n",
    "\n",
    "client = MilvusClient(\n",
    "    uri=\"http://localhost:19530\"\n",
    ")\n",
    "\n",
    "client.load_collection(\"test\")"
   ],
   "outputs": [],
   "execution_count": 2
  },
  {
   "metadata": {
    "ExecuteTime": {
     "end_time": "2025-08-06T12:57:11.987718Z",
     "start_time": "2025-08-06T12:57:11.982843Z"
    }
   },
   "cell_type": "code",
   "source": "client.list_collections()",
   "id": "cc3f761109e087a4",
   "outputs": [
    {
     "data": {
      "text/plain": [
       "['bar', 'test']"
      ]
     },
     "execution_count": 3,
     "metadata": {},
     "output_type": "execute_result"
    }
   ],
   "execution_count": 3
  },
  {
   "metadata": {
    "ExecuteTime": {
     "end_time": "2025-08-06T12:57:17.311094Z",
     "start_time": "2025-08-06T12:57:15.187962Z"
    }
   },
   "cell_type": "code",
   "source": [
    "with torch.no_grad():\n",
    "    model.set_processor(MODEL_NAME)\n",
    "\n",
    "    # box 34\n",
    "    box34_inputs = model.data_process(\n",
    "        text=\"The crop production data for barley and rye in the specified region reveals notable differences. Barley shows a wider range of production with high variability, indicated by the presence of multiple outliers around 10,000 kilograms per hectare. The median production of barley is higher than that of rye, with rye displaying a more concentrated range of values and fewer outliers. Overall, barley exhibits greater potential for high yield but with more variability, while rye production appears more consistent.\",\n",
    "        q_or_c=\"q\",\n",
    "        task_instruction=\"Recommend the most suitable chart with corresponding description for visualizing the information given by the provided text: \"\n",
    "    )\n",
    "\n",
    "    box34_embs = model(**box34_inputs, output_hidden_states=True)[:, -1, :]\n",
    "\n",
    "    box34_embs = torch.nn.functional.normalize(box34_embs, dim=-1)\n",
    "\n",
    "    print(len(box34_embs.cpu().detach().tolist()[0]))"
   ],
   "id": "de8f789d7ff6df2d",
   "outputs": [
    {
     "name": "stdout",
     "output_type": "stream",
     "text": [
      "4096\n"
     ]
    }
   ],
   "execution_count": 4
  },
  {
   "metadata": {
    "ExecuteTime": {
     "end_time": "2025-08-06T12:57:20.745970Z",
     "start_time": "2025-08-06T12:57:20.690192Z"
    }
   },
   "cell_type": "code",
   "source": [
    "box34_text_search_results = client.search(\n",
    "    collection_name=\"test\",\n",
    "    anns_field=\"text_dense\",\n",
    "    data=box34_embs.cpu().detach().tolist(),\n",
    "    limit=10,\n",
    "    search_params={\"metric_type\": \"IP\"},\n",
    "    output_fields=[\"type\", \"image_url\"],  # specifies fields to be returned\n",
    ")\n",
    "\n",
    "for box34_text_search_result in box34_text_search_results[0]:\n",
    "    print(box34_text_search_result[\"type\"])\n",
    "    print(box34_text_search_result[\"image_url\"])\n",
    "    print(box34_text_search_result[\"distance\"])\n"
   ],
   "id": "5064a7aefef90471",
   "outputs": [
    {
     "name": "stdout",
     "output_type": "stream",
     "text": [
      "box\n",
      "/home/dukaixing/RAG4Ghart/Dataset-ZXQ/sample100/box/png/34.png\n",
      "0.807702898979187\n",
      "box\n",
      "/home/dukaixing/RAG4Ghart/Dataset-ZXQ/sample100/box/png/386.png\n",
      "0.604670524597168\n",
      "violin\n",
      "/home/dukaixing/RAG4Ghart/Dataset-ZXQ/sample100/violin/png/59.png\n",
      "0.583060622215271\n",
      "violin\n",
      "/home/dukaixing/RAG4Ghart/Dataset-ZXQ/sample100/violin/png/19.png\n",
      "0.5746939778327942\n",
      "box\n",
      "/home/dukaixing/RAG4Ghart/Dataset-ZXQ/sample100/box/png/595.png\n",
      "0.5625044107437134\n",
      "violin\n",
      "/home/dukaixing/RAG4Ghart/Dataset-ZXQ/sample100/violin/png/296.png\n",
      "0.5522609353065491\n",
      "ridgeline\n",
      "/home/dukaixing/RAG4Ghart/Dataset-ZXQ/sample100/ridgeline/png/3688.png\n",
      "0.5430629253387451\n",
      "violin\n",
      "/home/dukaixing/RAG4Ghart/Dataset-ZXQ/sample100/violin/png/667.png\n",
      "0.5391879081726074\n",
      "ridgeline\n",
      "/home/dukaixing/RAG4Ghart/Dataset-ZXQ/sample100/ridgeline/png/3034.png\n",
      "0.5342887043952942\n",
      "pie\n",
      "/home/dukaixing/RAG4Ghart/Dataset-ZXQ/sample100/pie/png/963.png\n",
      "0.5233592391014099\n"
     ]
    }
   ],
   "execution_count": 5
  },
  {
   "metadata": {
    "ExecuteTime": {
     "end_time": "2025-08-06T12:57:42.798670Z",
     "start_time": "2025-08-06T12:57:42.756926Z"
    }
   },
   "cell_type": "code",
   "source": [
    "box34_img_search_results = client.search(\n",
    "    collection_name=\"test\",\n",
    "    anns_field=\"image_dense\",\n",
    "    data=box34_embs.cpu().detach().tolist(),\n",
    "    limit=10,\n",
    "    search_params={\"metric_type\": \"IP\"},\n",
    "    output_fields=[\"type\", \"image_url\"],  # specifies fields to be returned\n",
    ")\n",
    "\n",
    "for box34_img_search_result in box34_img_search_results[0]:\n",
    "    print(box34_img_search_result[\"type\"])\n",
    "    print(box34_img_search_result[\"image_url\"])\n",
    "    print(box34_img_search_result[\"distance\"])"
   ],
   "id": "2b7276601a290679",
   "outputs": [
    {
     "name": "stdout",
     "output_type": "stream",
     "text": [
      "box\n",
      "/home/dukaixing/RAG4Ghart/Dataset-ZXQ/sample100/box/png/386.png\n",
      "0.37802088260650635\n",
      "box\n",
      "/home/dukaixing/RAG4Ghart/Dataset-ZXQ/sample100/box/png/725.png\n",
      "0.3613850772380829\n",
      "ridgeline\n",
      "/home/dukaixing/RAG4Ghart/Dataset-ZXQ/sample100/ridgeline/png/3034.png\n",
      "0.34688594937324524\n",
      "box\n",
      "/home/dukaixing/RAG4Ghart/Dataset-ZXQ/sample100/box/png/34.png\n",
      "0.34349524974823\n",
      "stream\n",
      "/home/dukaixing/RAG4Ghart/Dataset-ZXQ/sample100/stream/png/501.png\n",
      "0.3385471701622009\n",
      "ridgeline\n",
      "/home/dukaixing/RAG4Ghart/Dataset-ZXQ/sample100/ridgeline/png/3688.png\n",
      "0.3367108106613159\n",
      "box\n",
      "/home/dukaixing/RAG4Ghart/Dataset-ZXQ/sample100/box/png/430.png\n",
      "0.334938108921051\n",
      "violin\n",
      "/home/dukaixing/RAG4Ghart/Dataset-ZXQ/sample100/violin/png/59.png\n",
      "0.3343046009540558\n",
      "violin\n",
      "/home/dukaixing/RAG4Ghart/Dataset-ZXQ/sample100/violin/png/296.png\n",
      "0.3305954933166504\n",
      "stream\n",
      "/home/dukaixing/RAG4Ghart/Dataset-ZXQ/sample100/stream/png/615.png\n",
      "0.3222346305847168\n"
     ]
    }
   ],
   "execution_count": 6
  },
  {
   "metadata": {
    "ExecuteTime": {
     "end_time": "2025-08-04T04:22:07.158314Z",
     "start_time": "2025-08-04T04:22:07.151427Z"
    }
   },
   "cell_type": "code",
   "source": [
    "from pymilvus import AnnSearchRequest\n",
    "\n",
    "# text semantic search (dense)\n",
    "request_1 = AnnSearchRequest(\n",
    "    data=box34_embs.cpu().detach().tolist(),\n",
    "    anns_field=\"text_dense\",\n",
    "    param={\n",
    "        \"metric_type\": \"IP\"\n",
    "    },\n",
    "    limit=10\n",
    ")\n",
    "\n",
    "# text-to-image search (multimodal)\n",
    "request_2 = AnnSearchRequest(\n",
    "    data=box34_embs.cpu().detach().tolist(),\n",
    "    anns_field=\"image_dense\",\n",
    "    param={\n",
    "        \"metric_type\": \"IP\"\n",
    "    },\n",
    "    limit=10\n",
    ")\n",
    "\n",
    "reqs = [request_1, request_2]"
   ],
   "id": "469abf8bcc2a6e21",
   "outputs": [],
   "execution_count": 15
  },
  {
   "metadata": {
    "ExecuteTime": {
     "end_time": "2025-08-04T04:22:10.005964Z",
     "start_time": "2025-08-04T04:22:10.001907Z"
    }
   },
   "cell_type": "code",
   "source": [
    "from pymilvus import RRFRanker, WeightedRanker\n",
    "\n",
    "rrf_ranker = RRFRanker()\n",
    "weighed_ranker = WeightedRanker(0, 1)"
   ],
   "id": "46840b9c5935d96c",
   "outputs": [],
   "execution_count": 16
  },
  {
   "metadata": {
    "ExecuteTime": {
     "end_time": "2025-08-04T04:22:11.584148Z",
     "start_time": "2025-08-04T04:22:11.554607Z"
    }
   },
   "cell_type": "code",
   "source": [
    "hybrid_search_results = client.hybrid_search(\n",
    "    collection_name=\"test\",  # target collection\n",
    "    reqs=reqs,\n",
    "    ranker=rrf_ranker,\n",
    "    limit=10,  # number of returned entities\n",
    "    output_fields=[\"type\", \"image_url\"],  # specifies fields to be returned\n",
    ")"
   ],
   "id": "e714a0364568f06b",
   "outputs": [],
   "execution_count": 17
  },
  {
   "metadata": {
    "ExecuteTime": {
     "end_time": "2025-08-04T04:22:16.364749Z",
     "start_time": "2025-08-04T04:22:16.359334Z"
    }
   },
   "cell_type": "code",
   "source": [
    "for hybrid_search_result in hybrid_search_results[0]:\n",
    "    print(hybrid_search_result[\"type\"])\n",
    "    print(hybrid_search_result[\"image_url\"])"
   ],
   "id": "d7cce0d32299e2de",
   "outputs": [
    {
     "name": "stdout",
     "output_type": "stream",
     "text": [
      "box\n",
      "/home/dukaixing/RAG4Ghart/Dataset-ZXQ/sample100/box/png/386.png\n",
      "box\n",
      "/home/dukaixing/RAG4Ghart/Dataset-ZXQ/sample100/box/png/34.png\n",
      "violin\n",
      "/home/dukaixing/RAG4Ghart/Dataset-ZXQ/sample100/violin/png/59.png\n",
      "ridgeline\n",
      "/home/dukaixing/RAG4Ghart/Dataset-ZXQ/sample100/ridgeline/png/3034.png\n",
      "ridgeline\n",
      "/home/dukaixing/RAG4Ghart/Dataset-ZXQ/sample100/ridgeline/png/3688.png\n",
      "violin\n",
      "/home/dukaixing/RAG4Ghart/Dataset-ZXQ/sample100/violin/png/296.png\n",
      "box\n",
      "/home/dukaixing/RAG4Ghart/Dataset-ZXQ/sample100/box/png/725.png\n",
      "stream\n",
      "/home/dukaixing/RAG4Ghart/Dataset-ZXQ/sample100/stream/png/501.png\n",
      "violin\n",
      "/home/dukaixing/RAG4Ghart/Dataset-ZXQ/sample100/violin/png/19.png\n",
      "box\n",
      "/home/dukaixing/RAG4Ghart/Dataset-ZXQ/sample100/box/png/595.png\n"
     ]
    }
   ],
   "execution_count": 18
  },
  {
   "metadata": {},
   "cell_type": "code",
   "outputs": [],
   "execution_count": null,
   "source": "",
   "id": "78178c78e303e704"
  }
 ],
 "metadata": {
  "kernelspec": {
   "display_name": "Python 3",
   "language": "python",
   "name": "python3"
  },
  "language_info": {
   "codemirror_mode": {
    "name": "ipython",
    "version": 2
   },
   "file_extension": ".py",
   "mimetype": "text/x-python",
   "name": "python",
   "nbconvert_exporter": "python",
   "pygments_lexer": "ipython2",
   "version": "2.7.6"
  }
 },
 "nbformat": 4,
 "nbformat_minor": 5
}
