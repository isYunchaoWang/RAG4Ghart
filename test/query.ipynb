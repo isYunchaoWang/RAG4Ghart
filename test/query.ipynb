{
 "cells": [
  {
   "metadata": {
    "ExecuteTime": {
     "end_time": "2025-07-22T12:21:58.388714Z",
     "start_time": "2025-07-22T12:21:53.360549Z"
    }
   },
   "cell_type": "code",
   "source": [
    "import torch\n",
    "from modelscope import AutoModel\n",
    "\n",
    "MODEL_NAME = \"/home/public/dkx/model/BAAI/BGE-VL-v1.5-zs\"\n",
    "\n",
    "model = AutoModel.from_pretrained(MODEL_NAME, trust_remote_code=True)\n",
    "model.eval()\n",
    "model.cuda()"
   ],
   "id": "ffda788fe691d54f",
   "outputs": [
    {
     "data": {
      "text/plain": [
       "Loading checkpoint shards:   0%|          | 0/4 [00:00<?, ?it/s]"
      ],
      "application/vnd.jupyter.widget-view+json": {
       "version_major": 2,
       "version_minor": 0,
       "model_id": "8cb592ad085144e7bcf4a4c7e42344ab"
      }
     },
     "metadata": {},
     "output_type": "display_data"
    },
    {
     "data": {
      "text/plain": [
       "LLaVANextForEmbedding(\n",
       "  (vision_tower): CLIPVisionModel(\n",
       "    (vision_model): CLIPVisionTransformer(\n",
       "      (embeddings): CLIPVisionEmbeddings(\n",
       "        (patch_embedding): Conv2d(3, 1024, kernel_size=(14, 14), stride=(14, 14), bias=False)\n",
       "        (position_embedding): Embedding(577, 1024)\n",
       "      )\n",
       "      (pre_layrnorm): LayerNorm((1024,), eps=1e-05, elementwise_affine=True)\n",
       "      (encoder): CLIPEncoder(\n",
       "        (layers): ModuleList(\n",
       "          (0-23): 24 x CLIPEncoderLayer(\n",
       "            (self_attn): CLIPSdpaAttention(\n",
       "              (k_proj): Linear(in_features=1024, out_features=1024, bias=True)\n",
       "              (v_proj): Linear(in_features=1024, out_features=1024, bias=True)\n",
       "              (q_proj): Linear(in_features=1024, out_features=1024, bias=True)\n",
       "              (out_proj): Linear(in_features=1024, out_features=1024, bias=True)\n",
       "            )\n",
       "            (layer_norm1): LayerNorm((1024,), eps=1e-05, elementwise_affine=True)\n",
       "            (mlp): CLIPMLP(\n",
       "              (activation_fn): QuickGELUActivation()\n",
       "              (fc1): Linear(in_features=1024, out_features=4096, bias=True)\n",
       "              (fc2): Linear(in_features=4096, out_features=1024, bias=True)\n",
       "            )\n",
       "            (layer_norm2): LayerNorm((1024,), eps=1e-05, elementwise_affine=True)\n",
       "          )\n",
       "        )\n",
       "      )\n",
       "      (post_layernorm): LayerNorm((1024,), eps=1e-05, elementwise_affine=True)\n",
       "    )\n",
       "  )\n",
       "  (multi_modal_projector): LlavaNextMultiModalProjector(\n",
       "    (linear_1): Linear(in_features=1024, out_features=4096, bias=True)\n",
       "    (act): GELUActivation()\n",
       "    (linear_2): Linear(in_features=4096, out_features=4096, bias=True)\n",
       "  )\n",
       "  (language_model): MistralForCausalLM(\n",
       "    (model): MistralModel(\n",
       "      (embed_tokens): Embedding(32064, 4096)\n",
       "      (layers): ModuleList(\n",
       "        (0-31): 32 x MistralDecoderLayer(\n",
       "          (self_attn): MistralSdpaAttention(\n",
       "            (q_proj): Linear(in_features=4096, out_features=4096, bias=False)\n",
       "            (k_proj): Linear(in_features=4096, out_features=1024, bias=False)\n",
       "            (v_proj): Linear(in_features=4096, out_features=1024, bias=False)\n",
       "            (o_proj): Linear(in_features=4096, out_features=4096, bias=False)\n",
       "            (rotary_emb): MistralRotaryEmbedding()\n",
       "          )\n",
       "          (mlp): MistralMLP(\n",
       "            (gate_proj): Linear(in_features=4096, out_features=14336, bias=False)\n",
       "            (up_proj): Linear(in_features=4096, out_features=14336, bias=False)\n",
       "            (down_proj): Linear(in_features=14336, out_features=4096, bias=False)\n",
       "            (act_fn): SiLU()\n",
       "          )\n",
       "          (input_layernorm): MistralRMSNorm((4096,), eps=1e-05)\n",
       "          (post_attention_layernorm): MistralRMSNorm((4096,), eps=1e-05)\n",
       "        )\n",
       "      )\n",
       "      (norm): MistralRMSNorm((4096,), eps=1e-05)\n",
       "    )\n",
       "    (lm_head): Linear(in_features=4096, out_features=32064, bias=False)\n",
       "  )\n",
       ")"
      ]
     },
     "execution_count": 1,
     "metadata": {},
     "output_type": "execute_result"
    }
   ],
   "execution_count": 1
  },
  {
   "cell_type": "code",
   "id": "initial_id",
   "metadata": {
    "collapsed": true,
    "ExecuteTime": {
     "end_time": "2025-07-22T12:22:06.616918Z",
     "start_time": "2025-07-22T12:22:06.490544Z"
    }
   },
   "source": [
    "from pymilvus import MilvusClient, DataType\n",
    "\n",
    "client = MilvusClient(\n",
    "    uri=\"http://localhost:19530\"\n",
    ")\n",
    "\n",
    "client.load_collection(\"bar\")"
   ],
   "outputs": [],
   "execution_count": 3
  },
  {
   "metadata": {
    "ExecuteTime": {
     "end_time": "2025-07-22T12:22:09.208064Z",
     "start_time": "2025-07-22T12:22:09.196611Z"
    }
   },
   "cell_type": "code",
   "source": "client.list_collections()",
   "id": "cc3f761109e087a4",
   "outputs": [
    {
     "data": {
      "text/plain": [
       "['bar']"
      ]
     },
     "execution_count": 4,
     "metadata": {},
     "output_type": "execute_result"
    }
   ],
   "execution_count": 4
  },
  {
   "metadata": {
    "ExecuteTime": {
     "end_time": "2025-07-22T12:26:05.183875Z",
     "start_time": "2025-07-22T12:26:02.428055Z"
    }
   },
   "cell_type": "code",
   "outputs": [
    {
     "name": "stdout",
     "output_type": "stream",
     "text": [
      "4096\n"
     ]
    }
   ],
   "execution_count": 12,
   "source": [
    "with torch.no_grad():\n",
    "    model.set_processor(MODEL_NAME)\n",
    "\n",
    "    query_inputs = model.data_process(\n",
    "        text=\"\"\"\n",
    "Agriculture and Food Production, Production of Different Crops In An Area, metric tons, leptokurtic, horizontal\n",
    "Crop category,metric tons\n",
    "Rapeseed,20000\n",
    "Wheat,2694\n",
    "Apple,2488\n",
    "Sugarcane,7573\n",
    "\"\"\",\n",
    "        images=[\"/home/dukaixing/RAG4Ghart/Dataset-ZXQ/sample100/bar/png/21.png\"],\n",
    "        q_or_c=\"q\",\n",
    "        task_instruction=\"Recommend the most suitable chart with corresponding description for visualizing the information given by the provided text: \"\n",
    "    )\n",
    "\n",
    "    query_embs = model(**query_inputs, output_hidden_states=True)[:, -1, :]\n",
    "\n",
    "    query_embs = torch.nn.functional.normalize(query_embs, dim=-1)\n",
    "\n",
    "    print(len(query_embs.cpu().detach().tolist()[0]))"
   ],
   "id": "de8f789d7ff6df2d"
  },
  {
   "metadata": {
    "ExecuteTime": {
     "end_time": "2025-07-22T12:26:23.498215Z",
     "start_time": "2025-07-22T12:26:23.476281Z"
    }
   },
   "cell_type": "code",
   "source": [
    "res = client.search(\n",
    "    collection_name=\"bar\",  # target collection\n",
    "    data=query_embs.cpu().detach().tolist(),  # query vectors\n",
    "    limit=10,  # number of returned entities\n",
    "    output_fields=[\"id\", \"image_url\", \"data\"],  # specifies fields to be returned\n",
    ")\n",
    "\n",
    "for x in res[0]:\n",
    "    print(x[\"id\"])\n",
    "    print(x[\"distance\"])"
   ],
   "id": "e714a0364568f06b",
   "outputs": [
    {
     "name": "stdout",
     "output_type": "stream",
     "text": [
      "21\n",
      "0.6780620217323303\n",
      "273\n",
      "0.64019376039505\n",
      "911\n",
      "0.6351696848869324\n",
      "742\n",
      "0.6291813850402832\n",
      "141\n",
      "0.6212880611419678\n",
      "540\n",
      "0.6111681461334229\n",
      "454\n",
      "0.6016165018081665\n",
      "395\n",
      "0.6001681089401245\n",
      "157\n",
      "0.5988056063652039\n",
      "684\n",
      "0.5967217683792114\n"
     ]
    }
   ],
   "execution_count": 13
  },
  {
   "metadata": {
    "ExecuteTime": {
     "end_time": "2025-07-22T12:26:33.854729Z",
     "start_time": "2025-07-22T12:26:33.633266Z"
    }
   },
   "cell_type": "code",
   "source": [
    "with torch.no_grad():\n",
    "    model.set_processor(MODEL_NAME)\n",
    "\n",
    "    query_inputs1 = model.data_process(\n",
    "        text=\"\"\"\n",
    "Agriculture and Food Production, Production of Different Crops In An Area, metric tons, leptokurtic, horizontal\n",
    "Crop category,metric tons\n",
    "Rapeseed,20000\n",
    "Wheat,2694\n",
    "Apple,2488\n",
    "Sugarcane,7573\n",
    "\"\"\",\n",
    "        q_or_c=\"q\",\n",
    "        task_instruction=\"Recommend the most suitable chart with corresponding description for visualizing the information given by the provided text: \"\n",
    "    )\n",
    "\n",
    "    query_embs1 = model(**query_inputs1, output_hidden_states=True)[:, -1, :]\n",
    "\n",
    "    query_embs1 = torch.nn.functional.normalize(query_embs1, dim=-1)\n",
    "\n",
    "    print(len(query_embs1.cpu().detach().tolist()[0]))"
   ],
   "id": "a97ff0aeeb9d64a4",
   "outputs": [
    {
     "name": "stdout",
     "output_type": "stream",
     "text": [
      "4096\n"
     ]
    }
   ],
   "execution_count": 14
  },
  {
   "metadata": {
    "ExecuteTime": {
     "end_time": "2025-07-22T12:26:36.343608Z",
     "start_time": "2025-07-22T12:26:36.331686Z"
    }
   },
   "cell_type": "code",
   "source": [
    "res1 = client.search(\n",
    "    collection_name=\"bar\",  # target collection\n",
    "    data=query_embs1.cpu().detach().tolist(),  # query vectors\n",
    "    limit=10,  # number of returned entities\n",
    "    output_fields=[\"id\", \"image_url\", \"data\"],  # specifies fields to be returned\n",
    ")\n",
    "\n",
    "for x in res1[0]:\n",
    "    print(x[\"id\"])\n",
    "    print(x[\"distance\"])"
   ],
   "id": "b3668fb7bb2fb95",
   "outputs": [
    {
     "name": "stdout",
     "output_type": "stream",
     "text": [
      "911\n",
      "0.3492613136768341\n",
      "273\n",
      "0.34827539324760437\n",
      "141\n",
      "0.3397336006164551\n",
      "742\n",
      "0.3390982151031494\n",
      "84\n",
      "0.3294185698032379\n",
      "21\n",
      "0.327197790145874\n",
      "454\n",
      "0.3228279948234558\n",
      "540\n",
      "0.31269580125808716\n",
      "395\n",
      "0.3067818284034729\n",
      "157\n",
      "0.302957147359848\n"
     ]
    }
   ],
   "execution_count": 15
  }
 ],
 "metadata": {
  "kernelspec": {
   "display_name": "Python 3",
   "language": "python",
   "name": "python3"
  },
  "language_info": {
   "codemirror_mode": {
    "name": "ipython",
    "version": 2
   },
   "file_extension": ".py",
   "mimetype": "text/x-python",
   "name": "python",
   "nbconvert_exporter": "python",
   "pygments_lexer": "ipython2",
   "version": "2.7.6"
  }
 },
 "nbformat": 4,
 "nbformat_minor": 5
}
