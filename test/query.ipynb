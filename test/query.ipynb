{
 "cells": [
  {
   "metadata": {
    "ExecuteTime": {
     "end_time": "2025-08-21T08:00:12.681052Z",
     "start_time": "2025-08-21T08:00:10.543361Z"
    }
   },
   "cell_type": "code",
   "source": [
    "import torch\n",
    "from modelscope import AutoModel"
   ],
   "id": "ffda788fe691d54f",
   "outputs": [],
   "execution_count": 1
  },
  {
   "cell_type": "code",
   "id": "initial_id",
   "metadata": {
    "collapsed": true,
    "ExecuteTime": {
     "end_time": "2025-08-21T08:00:15.432678Z",
     "start_time": "2025-08-21T08:00:15.074245Z"
    }
   },
   "source": [
    "from pymilvus import MilvusClient\n",
    "\n",
    "client = MilvusClient(\n",
    "    uri=\"http://localhost:19530\"\n",
    ")\n",
    "\n",
    "client.list_collections()"
   ],
   "outputs": [
    {
     "name": "stderr",
     "output_type": "stream",
     "text": [
      "/home/dkx/RAG4Ghart/.venv/lib/python3.12/site-packages/google/protobuf/runtime_version.py:98: UserWarning: Protobuf gencode version 5.27.2 is exactly one major version older than the runtime version 6.31.1 at schema.proto. Please update the gencode to avoid compatibility violations in the next runtime release.\n",
      "  warnings.warn(\n",
      "/home/dkx/RAG4Ghart/.venv/lib/python3.12/site-packages/google/protobuf/runtime_version.py:98: UserWarning: Protobuf gencode version 5.27.2 is exactly one major version older than the runtime version 6.31.1 at common.proto. Please update the gencode to avoid compatibility violations in the next runtime release.\n",
      "  warnings.warn(\n",
      "/home/dkx/RAG4Ghart/.venv/lib/python3.12/site-packages/google/protobuf/runtime_version.py:98: UserWarning: Protobuf gencode version 5.27.2 is exactly one major version older than the runtime version 6.31.1 at milvus.proto. Please update the gencode to avoid compatibility violations in the next runtime release.\n",
      "  warnings.warn(\n",
      "/home/dkx/RAG4Ghart/.venv/lib/python3.12/site-packages/google/protobuf/runtime_version.py:98: UserWarning: Protobuf gencode version 5.27.2 is exactly one major version older than the runtime version 6.31.1 at rg.proto. Please update the gencode to avoid compatibility violations in the next runtime release.\n",
      "  warnings.warn(\n",
      "/home/dkx/RAG4Ghart/.venv/lib/python3.12/site-packages/google/protobuf/runtime_version.py:98: UserWarning: Protobuf gencode version 5.27.2 is exactly one major version older than the runtime version 6.31.1 at feder.proto. Please update the gencode to avoid compatibility violations in the next runtime release.\n",
      "  warnings.warn(\n",
      "/home/dkx/RAG4Ghart/.venv/lib/python3.12/site-packages/google/protobuf/runtime_version.py:98: UserWarning: Protobuf gencode version 5.27.2 is exactly one major version older than the runtime version 6.31.1 at msg.proto. Please update the gencode to avoid compatibility violations in the next runtime release.\n",
      "  warnings.warn(\n"
     ]
    },
    {
     "data": {
      "text/plain": [
       "['Qwen3_Embedding_8B', 'BGE_VL_v1_5_zs', 'so400m_long_ctx309']"
      ]
     },
     "execution_count": 2,
     "metadata": {},
     "output_type": "execute_result"
    }
   ],
   "execution_count": 2
  },
  {
   "metadata": {},
   "cell_type": "markdown",
   "source": "## BGE-VL-v1.5-zs",
   "id": "c15e88c3db82c72f"
  },
  {
   "metadata": {
    "ExecuteTime": {
     "end_time": "2025-08-21T08:00:22.703615Z",
     "start_time": "2025-08-21T08:00:22.690530Z"
    }
   },
   "cell_type": "code",
   "source": "client.load_collection(\"BGE_VL_v1_5_zs\")",
   "id": "cc3f761109e087a4",
   "outputs": [],
   "execution_count": 3
  },
  {
   "metadata": {
    "ExecuteTime": {
     "end_time": "2025-08-21T08:00:40.733624Z",
     "start_time": "2025-08-21T08:00:33.301448Z"
    }
   },
   "cell_type": "code",
   "source": [
    "MODEL_NAME = \"/home/public/dkx/model/BAAI/BGE-VL-v1.5-zs\"\n",
    "\n",
    "model = AutoModel.from_pretrained(MODEL_NAME, trust_remote_code=True)\n",
    "model.eval()\n",
    "model.cuda()\n",
    "\n",
    "with torch.no_grad():\n",
    "    model.set_processor(MODEL_NAME)\n",
    "\n",
    "    # box 34\n",
    "    box34_inputs = model.data_process(\n",
    "        text=\"The crop production data for barley and rye in the specified region reveals notable differences. Barley shows a wider range of production with high variability, indicated by the presence of multiple outliers around 10,000 kilograms per hectare. The median production of barley is higher than that of rye, with rye displaying a more concentrated range of values and fewer outliers. Overall, barley exhibits greater potential for high yield but with more variability, while rye production appears more consistent.\",\n",
    "        q_or_c=\"q\",\n",
    "        task_instruction=\"Recommend the most suitable chart's abstract for visualizing the information given by the provided text: \"\n",
    "    )\n",
    "\n",
    "    box34_embs = model(**box34_inputs, output_hidden_states=True)[:, -1, :]\n",
    "\n",
    "    box34_embs = torch.nn.functional.normalize(box34_embs, dim=-1)\n",
    "\n",
    "    print(len(box34_embs.cpu().detach().tolist()[0]))"
   ],
   "id": "de8f789d7ff6df2d",
   "outputs": [
    {
     "data": {
      "text/plain": [
       "Loading checkpoint shards:   0%|          | 0/4 [00:00<?, ?it/s]"
      ],
      "application/vnd.jupyter.widget-view+json": {
       "version_major": 2,
       "version_minor": 0,
       "model_id": "981cbf78fcec4eecb4d0b79a0dc06145"
      }
     },
     "metadata": {},
     "output_type": "display_data"
    },
    {
     "name": "stdout",
     "output_type": "stream",
     "text": [
      "4096\n"
     ]
    }
   ],
   "execution_count": 4
  },
  {
   "metadata": {
    "ExecuteTime": {
     "end_time": "2025-08-21T08:00:48.098479Z",
     "start_time": "2025-08-21T08:00:48.077362Z"
    }
   },
   "cell_type": "code",
   "source": [
    "box34_text_search_results = client.search(\n",
    "    collection_name=\"BGE_VL_v1_5_zs\",\n",
    "    anns_field=\"text_dense\",\n",
    "    data=box34_embs.cpu().detach().tolist(),\n",
    "    limit=5,\n",
    "    search_params={\"metric_type\": \"IP\"},\n",
    "    output_fields=[\"type\", \"image_url\"],  # specifies fields to be returned\n",
    ")\n",
    "\n",
    "for box34_text_search_result in box34_text_search_results[0]:\n",
    "    print(box34_text_search_result[\"type\"])\n",
    "    print(box34_text_search_result[\"image_url\"])\n",
    "    print(box34_text_search_result[\"distance\"])\n"
   ],
   "id": "5064a7aefef90471",
   "outputs": [
    {
     "name": "stdout",
     "output_type": "stream",
     "text": [
      "box\n",
      "/home/dkx/RAG4Ghart/Dataset-ZXQ/train80/box/png/386.png\n",
      "0.6119102239608765\n",
      "violin\n",
      "/home/dkx/RAG4Ghart/Dataset-ZXQ/train80/violin/png/19.png\n",
      "0.5873621702194214\n",
      "violin\n",
      "/home/dkx/RAG4Ghart/Dataset-ZXQ/train80/violin/png/59.png\n",
      "0.5858768224716187\n",
      "violin\n",
      "/home/dkx/RAG4Ghart/Dataset-ZXQ/train80/violin/png/296.png\n",
      "0.559999406337738\n",
      "ridgeline\n",
      "/home/dkx/RAG4Ghart/Dataset-ZXQ/train80/ridgeline/png/3034.png\n",
      "0.5387448072433472\n"
     ]
    }
   ],
   "execution_count": 5
  },
  {
   "metadata": {
    "ExecuteTime": {
     "end_time": "2025-08-21T08:01:01.405480Z",
     "start_time": "2025-08-21T08:01:01.389673Z"
    }
   },
   "cell_type": "code",
   "source": [
    "box34_img_search_results = client.search(\n",
    "    collection_name=\"BGE_VL_v1_5_zs\",\n",
    "    anns_field=\"image_dense\",\n",
    "    data=box34_embs.cpu().detach().tolist(),\n",
    "    limit=5,\n",
    "    search_params={\"metric_type\": \"IP\"},\n",
    "    output_fields=[\"type\", \"image_url\"],  # specifies fields to be returned\n",
    ")\n",
    "\n",
    "for box34_img_search_result in box34_img_search_results[0]:\n",
    "    print(box34_img_search_result[\"type\"])\n",
    "    print(box34_img_search_result[\"image_url\"])\n",
    "    print(box34_img_search_result[\"distance\"])"
   ],
   "id": "2b7276601a290679",
   "outputs": [
    {
     "name": "stdout",
     "output_type": "stream",
     "text": [
      "ridgeline\n",
      "/home/dkx/RAG4Ghart/Dataset-ZXQ/train80/ridgeline/png/3034.png\n",
      "0.4342377781867981\n",
      "box\n",
      "/home/dkx/RAG4Ghart/Dataset-ZXQ/train80/box/png/386.png\n",
      "0.4314354658126831\n",
      "violin\n",
      "/home/dkx/RAG4Ghart/Dataset-ZXQ/train80/violin/png/296.png\n",
      "0.42759770154953003\n",
      "violin\n",
      "/home/dkx/RAG4Ghart/Dataset-ZXQ/train80/violin/png/542.png\n",
      "0.4245045483112335\n",
      "box\n",
      "/home/dkx/RAG4Ghart/Dataset-ZXQ/train80/box/png/725.png\n",
      "0.42248523235321045\n"
     ]
    }
   ],
   "execution_count": 6
  },
  {
   "metadata": {
    "ExecuteTime": {
     "end_time": "2025-08-21T08:01:32.805906Z",
     "start_time": "2025-08-21T08:01:32.792030Z"
    }
   },
   "cell_type": "code",
   "source": [
    "box34_hybrid_search_results = client.search(\n",
    "    collection_name=\"BGE_VL_v1_5_zs\",\n",
    "    anns_field=\"hybrid_dense\",\n",
    "    data=box34_embs.cpu().detach().tolist(),\n",
    "    limit=5,\n",
    "    search_params={\"metric_type\": \"IP\"},\n",
    "    output_fields=[\"type\", \"image_url\"],  # specifies fields to be returned\n",
    ")\n",
    "\n",
    "for box34_hybrid_search_result in box34_hybrid_search_results[0]:\n",
    "    print(box34_hybrid_search_result[\"type\"])\n",
    "    print(box34_hybrid_search_result[\"image_url\"])\n",
    "    print(box34_hybrid_search_result[\"distance\"])"
   ],
   "id": "82e38ea1bb48f26c",
   "outputs": [
    {
     "name": "stdout",
     "output_type": "stream",
     "text": [
      "box\n",
      "/home/dkx/RAG4Ghart/Dataset-ZXQ/train80/box/png/386.png\n",
      "0.5334362387657166\n",
      "violin\n",
      "/home/dkx/RAG4Ghart/Dataset-ZXQ/train80/violin/png/19.png\n",
      "0.5189244747161865\n",
      "box\n",
      "/home/dkx/RAG4Ghart/Dataset-ZXQ/train80/box/png/725.png\n",
      "0.49726372957229614\n",
      "violin\n",
      "/home/dkx/RAG4Ghart/Dataset-ZXQ/train80/violin/png/59.png\n",
      "0.4721393883228302\n",
      "violin\n",
      "/home/dkx/RAG4Ghart/Dataset-ZXQ/train80/violin/png/296.png\n",
      "0.4707433581352234\n"
     ]
    }
   ],
   "execution_count": 7
  },
  {
   "metadata": {
    "ExecuteTime": {
     "end_time": "2025-08-04T04:22:07.158314Z",
     "start_time": "2025-08-04T04:22:07.151427Z"
    }
   },
   "cell_type": "code",
   "source": [
    "from pymilvus import AnnSearchRequest\n",
    "\n",
    "# text semantic search (dense)\n",
    "request_1 = AnnSearchRequest(\n",
    "    data=box34_embs.cpu().detach().tolist(),\n",
    "    anns_field=\"text_dense\",\n",
    "    param={\n",
    "        \"metric_type\": \"IP\"\n",
    "    },\n",
    "    limit=10\n",
    ")\n",
    "\n",
    "# text-to-image search (multimodal)\n",
    "request_2 = AnnSearchRequest(\n",
    "    data=box34_embs.cpu().detach().tolist(),\n",
    "    anns_field=\"image_dense\",\n",
    "    param={\n",
    "        \"metric_type\": \"IP\"\n",
    "    },\n",
    "    limit=10\n",
    ")\n",
    "\n",
    "reqs = [request_1, request_2]"
   ],
   "id": "469abf8bcc2a6e21",
   "outputs": [],
   "execution_count": 15
  },
  {
   "metadata": {
    "ExecuteTime": {
     "end_time": "2025-08-04T04:22:10.005964Z",
     "start_time": "2025-08-04T04:22:10.001907Z"
    }
   },
   "cell_type": "code",
   "source": [
    "from pymilvus import RRFRanker, WeightedRanker\n",
    "\n",
    "rrf_ranker = RRFRanker()\n",
    "weighed_ranker = WeightedRanker(0, 1)"
   ],
   "id": "46840b9c5935d96c",
   "outputs": [],
   "execution_count": 16
  },
  {
   "metadata": {
    "ExecuteTime": {
     "end_time": "2025-08-04T04:22:11.584148Z",
     "start_time": "2025-08-04T04:22:11.554607Z"
    }
   },
   "cell_type": "code",
   "source": [
    "hybrid_search_results = client.hybrid_search(\n",
    "    collection_name=\"test\",  # target collection\n",
    "    reqs=reqs,\n",
    "    ranker=rrf_ranker,\n",
    "    limit=10,  # number of returned entities\n",
    "    output_fields=[\"type\", \"image_url\"],  # specifies fields to be returned\n",
    ")"
   ],
   "id": "e714a0364568f06b",
   "outputs": [],
   "execution_count": 17
  },
  {
   "metadata": {
    "ExecuteTime": {
     "end_time": "2025-08-04T04:22:16.364749Z",
     "start_time": "2025-08-04T04:22:16.359334Z"
    }
   },
   "cell_type": "code",
   "source": [
    "for hybrid_search_result in hybrid_search_results[0]:\n",
    "    print(hybrid_search_result[\"type\"])\n",
    "    print(hybrid_search_result[\"image_url\"])"
   ],
   "id": "d7cce0d32299e2de",
   "outputs": [
    {
     "name": "stdout",
     "output_type": "stream",
     "text": [
      "box\n",
      "/home/dukaixing/RAG4Ghart/Dataset-ZXQ/sample100/box/png/386.png\n",
      "box\n",
      "/home/dukaixing/RAG4Ghart/Dataset-ZXQ/sample100/box/png/34.png\n",
      "violin\n",
      "/home/dukaixing/RAG4Ghart/Dataset-ZXQ/sample100/violin/png/59.png\n",
      "ridgeline\n",
      "/home/dukaixing/RAG4Ghart/Dataset-ZXQ/sample100/ridgeline/png/3034.png\n",
      "ridgeline\n",
      "/home/dukaixing/RAG4Ghart/Dataset-ZXQ/sample100/ridgeline/png/3688.png\n",
      "violin\n",
      "/home/dukaixing/RAG4Ghart/Dataset-ZXQ/sample100/violin/png/296.png\n",
      "box\n",
      "/home/dukaixing/RAG4Ghart/Dataset-ZXQ/sample100/box/png/725.png\n",
      "stream\n",
      "/home/dukaixing/RAG4Ghart/Dataset-ZXQ/sample100/stream/png/501.png\n",
      "violin\n",
      "/home/dukaixing/RAG4Ghart/Dataset-ZXQ/sample100/violin/png/19.png\n",
      "box\n",
      "/home/dukaixing/RAG4Ghart/Dataset-ZXQ/sample100/box/png/595.png\n"
     ]
    }
   ],
   "execution_count": 18
  },
  {
   "metadata": {},
   "cell_type": "markdown",
   "source": "## so400m-long-ctx309",
   "id": "15fd8e7fb26a1ade"
  },
  {
   "metadata": {
    "ExecuteTime": {
     "end_time": "2025-08-12T05:16:25.838454Z",
     "start_time": "2025-08-12T05:16:25.822705Z"
    }
   },
   "cell_type": "code",
   "source": "client.load_collection(\"so400m_long_ctx309\")",
   "id": "78178c78e303e704",
   "execution_count": 3,
   "outputs": []
  },
  {
   "metadata": {
    "ExecuteTime": {
     "end_time": "2025-08-12T05:16:32.591332Z",
     "start_time": "2025-08-12T05:16:28.261918Z"
    }
   },
   "cell_type": "code",
   "source": [
    "from transformers import SiglipModel, SiglipProcessor\n",
    "from PIL import Image\n",
    "model = SiglipModel.from_pretrained(\"/home/public/dkx/model/fancyfeast/so400m-long-ctx309\", torch_dtype=torch.float16, device_map=\"auto\",\n",
    "                                        attn_implementation=\"sdpa\")\n",
    "processor = SiglipProcessor.from_pretrained(\"/home/public/dkx/model/fancyfeast/so400m-long-ctx309\")"
   ],
   "id": "e87644b82afd05b7",
   "outputs": [
    {
     "name": "stderr",
     "output_type": "stream",
     "text": [
      "Using a slow image processor as `use_fast` is unset and a slow processor was saved with this model. `use_fast=True` will be the default behavior in v4.52, even if the model was saved with a slow processor. This will result in minor differences in outputs. You'll still be able to use a slow processor with `use_fast=False`.\n"
     ]
    }
   ],
   "execution_count": 4
  },
  {
   "metadata": {},
   "cell_type": "markdown",
   "source": "### box34",
   "id": "13455f7bc28c55e4"
  },
  {
   "metadata": {
    "ExecuteTime": {
     "end_time": "2025-08-12T05:16:36.403051Z",
     "start_time": "2025-08-12T05:16:35.987392Z"
    }
   },
   "cell_type": "code",
   "source": [
    "box34_image = Image.open(\"/home/dkx/RAG4Ghart/Dataset-ZXQ/test20/box/png/34.png\").convert(\"RGB\")\n",
    "\n",
    "with torch.no_grad():\n",
    "    box34_inputs = processor(text=[\"The crop production data for barley and rye in the specified region reveals notable differences. Barley shows a wider range of production with high variability, indicated by the presence of multiple outliers around 10,000 kilograms per hectare. The median production of barley is higher than that of rye, with rye displaying a more concentrated range of values and fewer outliers. Overall, barley exhibits greater potential for high yield but with more variability, while rye production appears more consistent.\"], images=box34_image,padding=\"max_length\", max_length=309, return_tensors=\"pt\").to(\"cuda\")\n",
    "    box34_outputs = model(**box34_inputs)"
   ],
   "id": "91fb9ebe5902b237",
   "outputs": [],
   "execution_count": 5
  },
  {
   "metadata": {
    "ExecuteTime": {
     "end_time": "2025-08-12T05:16:39.179685Z",
     "start_time": "2025-08-12T05:16:39.166016Z"
    }
   },
   "cell_type": "code",
   "source": [
    "box34_query_embs = box34_outputs.text_embeds\n",
    "box34_text_results = client.search(\n",
    "    collection_name=\"so400m_long_ctx309\",\n",
    "    anns_field=\"text_dense\",\n",
    "    data=box34_query_embs.detach().cpu().tolist(),\n",
    "    limit=5,\n",
    "    search_params={\"metric_type\": \"IP\"},\n",
    "            output_fields=[\"type\", \"image_url\"],  # specifies fields to be returned\n",
    "    )\n",
    "\n",
    "for result in box34_text_results[0]:\n",
    "    print(result[\"type\"])\n",
    "    print(result[\"image_url\"])\n",
    "    print(result[\"distance\"])"
   ],
   "id": "1d4fdf6183ba0f2b",
   "outputs": [
    {
     "name": "stdout",
     "output_type": "stream",
     "text": [
      "violin\n",
      "/home/dkx/RAG4Ghart/Dataset-ZXQ/train80/violin/png/19.png\n",
      "0.8739900588989258\n",
      "box\n",
      "/home/dkx/RAG4Ghart/Dataset-ZXQ/train80/box/png/386.png\n",
      "0.8667271137237549\n",
      "violin\n",
      "/home/dkx/RAG4Ghart/Dataset-ZXQ/train80/violin/png/59.png\n",
      "0.84194415807724\n",
      "pie\n",
      "/home/dkx/RAG4Ghart/Dataset-ZXQ/train80/pie/png/49.png\n",
      "0.83468097448349\n",
      "chord\n",
      "/home/dkx/RAG4Ghart/Dataset-ZXQ/train80/chord/png/677.png\n",
      "0.8220779299736023\n"
     ]
    }
   ],
   "execution_count": 6
  },
  {
   "metadata": {
    "ExecuteTime": {
     "end_time": "2025-08-12T05:19:10.220467Z",
     "start_time": "2025-08-12T05:19:10.201680Z"
    }
   },
   "cell_type": "code",
   "source": [
    "box34_image_results = client.search(\n",
    "    collection_name=\"so400m_long_ctx309\",\n",
    "    anns_field=\"image_dense\",\n",
    "    data=box34_query_embs.detach().cpu().tolist(),\n",
    "    limit=5,\n",
    "    search_params={\"metric_type\": \"IP\"},\n",
    "            output_fields=[\"type\", \"image_url\"],  # specifies fields to be returned\n",
    "    )\n",
    "\n",
    "for result in box34_image_results[0]:\n",
    "    print(result[\"type\"])\n",
    "    print(result[\"image_url\"])\n",
    "    print(result[\"distance\"])"
   ],
   "id": "ce123b9ee28dc68",
   "outputs": [
    {
     "name": "stdout",
     "output_type": "stream",
     "text": [
      "box\n",
      "/home/dkx/RAG4Ghart/Dataset-ZXQ/train80/box/png/725.png\n",
      "0.194061279296875\n",
      "box\n",
      "/home/dkx/RAG4Ghart/Dataset-ZXQ/train80/box/png/386.png\n",
      "0.19086508452892303\n",
      "bar\n",
      "/home/dkx/RAG4Ghart/Dataset-ZXQ/train80/bar/png/911.png\n",
      "0.1841658651828766\n",
      "box\n",
      "/home/dkx/RAG4Ghart/Dataset-ZXQ/train80/box/png/430.png\n",
      "0.182756245136261\n",
      "violin\n",
      "/home/dkx/RAG4Ghart/Dataset-ZXQ/train80/violin/png/542.png\n",
      "0.18026849627494812\n"
     ]
    }
   ],
   "execution_count": 9
  },
  {
   "metadata": {},
   "cell_type": "markdown",
   "source": "### bar21",
   "id": "398a0786e4ca8ac"
  },
  {
   "metadata": {
    "ExecuteTime": {
     "end_time": "2025-08-12T05:17:20.061577Z",
     "start_time": "2025-08-12T05:17:19.916840Z"
    }
   },
   "cell_type": "code",
   "source": [
    "bar21_image = Image.open(\"/home/dkx/RAG4Ghart/Dataset-ZXQ/test20/bar/png/21.png\").convert(\"RGB\")\n",
    "\n",
    "with torch.no_grad():\n",
    "    bar21_inputs = processor(text=[\"The chart illustrates the production of different crops in an area, measured in metric tons. Among the crops, rapeseed has the highest production at 20,000 metric tons, indicating its dominance in the dataset. The lowest production is apple, with 2,488 metric tons. The total production across all crops amounts to 32,755 metric tons, with an average production of approximately 8,189 metric tons per crop. The data does not indicate a consistent trend such as an increase or decrease since each crop's production level stands alone. No specific turning points or growth rates can be discerned from this static dataset; however, the significant observation is the substantial disparity in production levels, notably with rapeseed leading substantially.\"], images=bar21_image,padding=\"max_length\", max_length=309, return_tensors=\"pt\").to(\"cuda\")\n",
    "    bar21_outputs = model(**bar21_inputs)"
   ],
   "id": "f57c1129f6e1c475",
   "outputs": [],
   "execution_count": 7
  },
  {
   "metadata": {
    "ExecuteTime": {
     "end_time": "2025-08-12T05:17:22.802234Z",
     "start_time": "2025-08-12T05:17:22.791801Z"
    }
   },
   "cell_type": "code",
   "source": [
    "bar21_query_embs = bar21_outputs.text_embeds\n",
    "bar21_text_results = client.search(\n",
    "    collection_name=\"so400m_long_ctx309\",\n",
    "    anns_field=\"text_dense\",\n",
    "    data=bar21_query_embs.detach().cpu().tolist(),\n",
    "    limit=5,\n",
    "    search_params={\"metric_type\": \"IP\"},\n",
    "            output_fields=[\"type\", \"image_url\"],  # specifies fields to be returned\n",
    "    )\n",
    "\n",
    "for result in bar21_text_results[0]:\n",
    "    print(result[\"type\"])\n",
    "    print(result[\"image_url\"])\n",
    "    print(result[\"distance\"])"
   ],
   "id": "3ebd9874a0877803",
   "outputs": [
    {
     "name": "stdout",
     "output_type": "stream",
     "text": [
      "bar\n",
      "/home/dkx/RAG4Ghart/Dataset-ZXQ/train80/bar/png/273.png\n",
      "0.9274871349334717\n",
      "bar\n",
      "/home/dkx/RAG4Ghart/Dataset-ZXQ/train80/bar/png/540.png\n",
      "0.9231504797935486\n",
      "bar\n",
      "/home/dkx/RAG4Ghart/Dataset-ZXQ/train80/bar/png/911.png\n",
      "0.9037222862243652\n",
      "bar\n",
      "/home/dkx/RAG4Ghart/Dataset-ZXQ/train80/bar/png/157.png\n",
      "0.8723613023757935\n",
      "bar\n",
      "/home/dkx/RAG4Ghart/Dataset-ZXQ/train80/bar/png/742.png\n",
      "0.853693425655365\n"
     ]
    }
   ],
   "execution_count": 8
  },
  {
   "metadata": {
    "ExecuteTime": {
     "end_time": "2025-08-12T05:20:33.225065Z",
     "start_time": "2025-08-12T05:20:33.208842Z"
    }
   },
   "cell_type": "code",
   "source": [
    "bar21_query_embs = bar21_outputs.text_embeds\n",
    "bar21_image_results = client.search(\n",
    "    collection_name=\"so400m_long_ctx309\",\n",
    "    anns_field=\"image_dense\",\n",
    "    data=bar21_query_embs.detach().cpu().tolist(),\n",
    "    limit=5,\n",
    "    search_params={\"metric_type\": \"IP\"},\n",
    "            output_fields=[\"type\", \"image_url\"],  # specifies fields to be returned\n",
    "    )\n",
    "\n",
    "for result in bar21_image_results[0]:\n",
    "    print(result[\"type\"])\n",
    "    print(result[\"image_url\"])\n",
    "    print(result[\"distance\"])"
   ],
   "id": "e53bfa11bafad4ee",
   "outputs": [
    {
     "name": "stdout",
     "output_type": "stream",
     "text": [
      "bar\n",
      "/home/dkx/RAG4Ghart/Dataset-ZXQ/train80/bar/png/911.png\n",
      "0.237827867269516\n",
      "bar\n",
      "/home/dkx/RAG4Ghart/Dataset-ZXQ/train80/bar/png/273.png\n",
      "0.2367294728755951\n",
      "bar\n",
      "/home/dkx/RAG4Ghart/Dataset-ZXQ/train80/bar/png/84.png\n",
      "0.23169222474098206\n",
      "bar\n",
      "/home/dkx/RAG4Ghart/Dataset-ZXQ/train80/bar/png/141.png\n",
      "0.23132580518722534\n",
      "bar\n",
      "/home/dkx/RAG4Ghart/Dataset-ZXQ/train80/bar/png/742.png\n",
      "0.23068910837173462\n"
     ]
    }
   ],
   "execution_count": 10
  },
  {
   "metadata": {},
   "cell_type": "markdown",
   "source": "## Qwen3-Embedding-8B",
   "id": "9f9f4389538a4522"
  },
  {
   "metadata": {
    "ExecuteTime": {
     "end_time": "2025-08-12T08:26:57.189500Z",
     "start_time": "2025-08-12T08:26:57.173763Z"
    }
   },
   "cell_type": "code",
   "source": "client.load_collection(\"Qwen3_Embedding_8B\")",
   "id": "772a4142c27abeea",
   "execution_count": 3,
   "outputs": []
  },
  {
   "metadata": {
    "ExecuteTime": {
     "end_time": "2025-08-12T08:26:58.864016Z",
     "start_time": "2025-08-12T08:26:58.740013Z"
    }
   },
   "cell_type": "code",
   "source": [
    "## Qwen3-Embedding\n",
    "import torch.nn.functional as F\n",
    "from torch import Tensor\n",
    "from modelscope import AutoTokenizer\n",
    "from transformers import Qwen3Model"
   ],
   "id": "a0548701efc55624",
   "outputs": [],
   "execution_count": 4
  },
  {
   "metadata": {
    "ExecuteTime": {
     "end_time": "2025-08-12T08:27:04.262841Z",
     "start_time": "2025-08-12T08:27:01.811057Z"
    }
   },
   "cell_type": "code",
   "source": [
    "def last_token_pool(last_hidden_states: Tensor,\n",
    "                        attention_mask: Tensor) -> Tensor:\n",
    "        left_padding = (attention_mask[:, -1].sum() == attention_mask.shape[0])\n",
    "        if left_padding:\n",
    "            return last_hidden_states[:, -1]\n",
    "        else:\n",
    "            sequence_lengths = attention_mask.sum(dim=1) - 1\n",
    "            batch_size = last_hidden_states.shape[0]\n",
    "            return last_hidden_states[torch.arange(batch_size, device=last_hidden_states.device), sequence_lengths]\n",
    "\n",
    "def get_detailed_instruct(task_description: str, query: str) -> str:\n",
    "    return f'Instruct: {task_description}\\nQuery:{query}'\n",
    "\n",
    "# Each query must come with a one-sentence instruction that describes the task\n",
    "task = 'Given a piece of text, recommend the most suitable type of chart to visualize it.'\n",
    "\n",
    "tokenizer = AutoTokenizer.from_pretrained('/home/public/dkx/model/Qwen/Qwen3-Embedding-8B', padding_side='left')\n",
    "model = Qwen3Model.from_pretrained('/home/public/dkx/model/Qwen/Qwen3-Embedding-8B')"
   ],
   "id": "214de7ba09b8940",
   "outputs": [
    {
     "data": {
      "text/plain": [
       "Loading checkpoint shards:   0%|          | 0/4 [00:00<?, ?it/s]"
      ],
      "application/vnd.jupyter.widget-view+json": {
       "version_major": 2,
       "version_minor": 0,
       "model_id": "3fa118a769c84b618c8e029b601831d4"
      }
     },
     "metadata": {},
     "output_type": "display_data"
    }
   ],
   "execution_count": 5
  },
  {
   "metadata": {},
   "cell_type": "markdown",
   "source": "### box34",
   "id": "db0fadc8655eb919"
  },
  {
   "metadata": {
    "ExecuteTime": {
     "end_time": "2025-08-12T08:27:10.687590Z",
     "start_time": "2025-08-12T08:27:09.340763Z"
    }
   },
   "cell_type": "code",
   "source": [
    "box34_queries = [\n",
    "    get_detailed_instruct(task, 'The crop production data for barley and rye in the specified region reveals notable differences. Barley shows a wider range of production with high variability, indicated by the presence of multiple outliers around 10,000 kilograms per hectare. The median production of barley is higher than that of rye, with rye displaying a more concentrated range of values and fewer outliers. Overall, barley exhibits greater potential for high yield but with more variability, while rye production appears more consistent.')\n",
    "]\n",
    "\n",
    "# Tokenize the input texts\n",
    "with torch.no_grad():\n",
    "    batch_dict = tokenizer(\n",
    "    box34_queries,\n",
    "    padding=True,\n",
    "    truncation=True,\n",
    "    max_length=8192,\n",
    "    return_tensors=\"pt\",\n",
    ")\n",
    "    batch_dict.to(model.device)\n",
    "    outputs = model(**batch_dict)\n",
    "    embeddings = last_token_pool(outputs.last_hidden_state, batch_dict['attention_mask'])\n",
    "    # normalize embeddings\n",
    "    box34_query_embs = F.normalize(embeddings, p=2, dim=1)"
   ],
   "id": "65e68fee04bb6e08",
   "outputs": [],
   "execution_count": 6
  },
  {
   "metadata": {
    "ExecuteTime": {
     "end_time": "2025-08-12T08:27:17.298004Z",
     "start_time": "2025-08-12T08:27:17.279372Z"
    }
   },
   "cell_type": "code",
   "source": [
    "box34_text_results = client.search(\n",
    "    collection_name=\"Qwen3_Embedding_8B\",\n",
    "    anns_field=\"text_dense\",\n",
    "    data=box34_query_embs.detach().cpu().tolist(),\n",
    "    limit=5,\n",
    "    search_params={\"metric_type\": \"IP\"},\n",
    "            output_fields=[\"type\", \"image_url\"],  # specifies fields to be returned\n",
    "    )\n",
    "\n",
    "for result in box34_text_results[0]:\n",
    "    print(result[\"type\"])\n",
    "    print(result[\"image_url\"])\n",
    "    print(result[\"distance\"])"
   ],
   "id": "87e202dd6b4c17d2",
   "outputs": [
    {
     "name": "stdout",
     "output_type": "stream",
     "text": [
      "box\n",
      "/home/dkx/RAG4Ghart/Dataset-ZXQ/train80/box/png/386.png\n",
      "0.47660595178604126\n",
      "box\n",
      "/home/dkx/RAG4Ghart/Dataset-ZXQ/train80/box/png/10692.png\n",
      "0.4488487243652344\n",
      "violin\n",
      "/home/dkx/RAG4Ghart/Dataset-ZXQ/train80/violin/png/19.png\n",
      "0.4422077536582947\n",
      "box\n",
      "/home/dkx/RAG4Ghart/Dataset-ZXQ/train80/box/png/430.png\n",
      "0.4297323524951935\n",
      "box\n",
      "/home/dkx/RAG4Ghart/Dataset-ZXQ/train80/box/png/4445.png\n",
      "0.4281846880912781\n"
     ]
    }
   ],
   "execution_count": 7
  },
  {
   "metadata": {},
   "cell_type": "markdown",
   "source": "### bar21",
   "id": "5c57b41caa6875ae"
  },
  {
   "metadata": {
    "ExecuteTime": {
     "end_time": "2025-08-12T08:29:01.052566Z",
     "start_time": "2025-08-12T08:28:57.435819Z"
    }
   },
   "cell_type": "code",
   "source": [
    "bar21_queries = [\n",
    "    get_detailed_instruct(task, \"The chart illustrates the production of different crops in an area, measured in metric tons. Among the crops, rapeseed has the highest production at 20,000 metric tons, indicating its dominance in the dataset. The lowest production is apple, with 2,488 metric tons. The total production across all crops amounts to 32,755 metric tons, with an average production of approximately 8,189 metric tons per crop. The data does not indicate a consistent trend such as an increase or decrease since each crop's production level stands alone. No specific turning points or growth rates can be discerned from this static dataset; however, the significant observation is the substantial disparity in production levels, notably with rapeseed leading substantially.\")\n",
    "]\n",
    "\n",
    "# Tokenize the input texts\n",
    "with torch.no_grad():\n",
    "    batch_dict = tokenizer(\n",
    "        bar21_queries,\n",
    "        padding=True,\n",
    "        truncation=True,\n",
    "        max_length=8192,\n",
    "        return_tensors=\"pt\",\n",
    "    )\n",
    "    batch_dict.to(model.device)\n",
    "    outputs = model(**batch_dict)\n",
    "    embeddings = last_token_pool(outputs.last_hidden_state, batch_dict['attention_mask'])\n",
    "    # normalize embeddings\n",
    "    bar21_query_embs = F.normalize(embeddings, p=2, dim=1)"
   ],
   "id": "1fe35c1853271c66",
   "outputs": [],
   "execution_count": 8
  },
  {
   "metadata": {
    "ExecuteTime": {
     "end_time": "2025-08-12T08:29:05.851625Z",
     "start_time": "2025-08-12T08:29:05.838117Z"
    }
   },
   "cell_type": "code",
   "source": [
    "bar21_text_results = client.search(\n",
    "    collection_name=\"Qwen3_Embedding_8B\",\n",
    "    anns_field=\"text_dense\",\n",
    "    data=bar21_query_embs.detach().cpu().tolist(),\n",
    "    limit=5,\n",
    "    search_params={\"metric_type\": \"IP\"},\n",
    "            output_fields=[\"type\", \"image_url\"],  # specifies fields to be returned\n",
    "    )\n",
    "\n",
    "for result in bar21_text_results[0]:\n",
    "    print(result[\"type\"])\n",
    "    print(result[\"image_url\"])\n",
    "    print(result[\"distance\"])"
   ],
   "id": "1e40d5e05f662d42",
   "outputs": [
    {
     "name": "stdout",
     "output_type": "stream",
     "text": [
      "bar\n",
      "/home/dkx/RAG4Ghart/Dataset-ZXQ/train80/bar/png/273.png\n",
      "0.4573424160480499\n",
      "bar\n",
      "/home/dkx/RAG4Ghart/Dataset-ZXQ/train80/bar/png/742.png\n",
      "0.44618138670921326\n",
      "sunburst\n",
      "/home/dkx/RAG4Ghart/Dataset-ZXQ/train80/sunburst/png/22.png\n",
      "0.44571155309677124\n",
      "sunburst\n",
      "/home/dkx/RAG4Ghart/Dataset-ZXQ/train80/sunburst/png/191.png\n",
      "0.44317981600761414\n",
      "bar\n",
      "/home/dkx/RAG4Ghart/Dataset-ZXQ/train80/bar/png/395.png\n",
      "0.44175153970718384\n"
     ]
    }
   ],
   "execution_count": 9
  }
 ],
 "metadata": {
  "kernelspec": {
   "display_name": "Python 3",
   "language": "python",
   "name": "python3"
  },
  "language_info": {
   "codemirror_mode": {
    "name": "ipython",
    "version": 2
   },
   "file_extension": ".py",
   "mimetype": "text/x-python",
   "name": "python",
   "nbconvert_exporter": "python",
   "pygments_lexer": "ipython2",
   "version": "2.7.6"
  }
 },
 "nbformat": 4,
 "nbformat_minor": 5
}
